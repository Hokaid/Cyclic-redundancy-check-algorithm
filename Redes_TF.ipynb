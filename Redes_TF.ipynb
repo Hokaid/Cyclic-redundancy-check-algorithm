{
  "nbformat": 4,
  "nbformat_minor": 0,
  "metadata": {
    "colab": {
      "name": "Redes_TF.ipynb",
      "provenance": [],
      "collapsed_sections": []
    },
    "kernelspec": {
      "name": "python3",
      "display_name": "Python 3"
    }
  },
  "cells": [
    {
      "cell_type": "code",
      "metadata": {
        "id": "IFJOrlVJrkwc",
        "colab_type": "code",
        "outputId": "f203fb74-9509-4214-ffe5-5cd53fb8bab3",
        "colab": {
          "base_uri": "https://localhost:8080/",
          "height": 102
        }
      },
      "source": [
        "import numpy as np\n",
        "import random as rand\n",
        "\n",
        "pbin = [1, 0, 0, 1, 0, 1] #Valor Binario del Polinomio Generador\n",
        "data = [1, 1, 0, 1, 0, 1, 1, 1, 0, 1, 1, 1, 0, 1, 0, 1, 1, 1, 0, 1, 1, 1, 0, 1, 0, 1] #Mensaje de Trama\n",
        "rcrc = [0, 0, 0, 0, 0] # Bits redundantes\n",
        "\n",
        "def xor(a, b): #Puerta Lógica XOR\n",
        "  if (a == b):\n",
        "    return 0 \n",
        "  elif (a != b): \n",
        "    return 1\n",
        "\n",
        "def randerror(arr): #Función generadora de error aleatorio\n",
        "  for i in range(3):\n",
        "    bie = rand.randint(0,len(arr))\n",
        "    if arr[bie] == 0:\n",
        "      arr[bie] = 1\n",
        "    if arr[bie] == 1:\n",
        "      arr[bie] = 0\n",
        "  return arr;\n",
        "\n",
        "def crc(pbin, data, rcrc): #Algoritmo CRC\n",
        "  data = np.append(data, rcrc) \n",
        "  for i in range(len(data)-len(rcrc)): #Se recorre la trama de datos\n",
        "    if (data[i] == 1): #Se empieza desde el primer 1\n",
        "      for j in range(len(pbin)): #Se recorre el polinomio\n",
        "        data[i] = xor(data[i], pbin[j]) #División con base XOR\n",
        "        i = i + 1\n",
        "  return data[len(data)-len(rcrc):len(data)] #Se retorna el residuo CRC\n",
        "\n",
        "print(\"Polinomio generador: \", end=\" \"); print(pbin)\n",
        "print(\"Mensaje de trama: \", end=\" \"); print(data)\n",
        "rcrc = crc(pbin, data, rcrc) #Se determina el residuo CRC o bits redundantes\n",
        "\n",
        "ife = input(\"Deseas generar error en la trama? (y/n): \")\n",
        "if (ife == \"y\" or ife == \"Y\"):\n",
        "  data = randerror(data) #Se genera error aleatorio en la trama de datos\n",
        "print(\"Mensaje de trama con error: \", end=\" \"); print(data)\n",
        "\n",
        "#Se comprueba si el residuo dio como resultado 0:\n",
        "if (np.sum(crc(pbin, data, rcrc)) == 0):\n",
        "  print(\"La trama de datos llego correctamente\")\n",
        "else:\n",
        "  print(\"La trama de datos debe ser reenviada\")\n"
      ],
      "execution_count": 0,
      "outputs": [
        {
          "output_type": "stream",
          "text": [
            "Polinomio generador:  [1, 0, 0, 1, 0, 1]\n",
            "Mensaje de trama:  [1, 1, 0, 1, 0, 1, 1, 1, 0, 1, 1, 1, 0, 1, 0, 1, 1, 1, 0, 1, 1, 1, 0, 1, 0, 1]\n",
            "Deseas generar error en la trama? (y/n): y\n",
            "Mensaje de trama con error:  [1, 1, 0, 0, 0, 1, 1, 1, 0, 1, 1, 0, 0, 1, 0, 1, 0, 1, 0, 1, 1, 1, 0, 1, 0, 1]\n",
            "La trama de datos debe ser reenviada\n"
          ],
          "name": "stdout"
        }
      ]
    }
  ]
}